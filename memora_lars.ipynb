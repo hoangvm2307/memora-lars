{
 "cells": [
  {
   "cell_type": "markdown",
   "metadata": {},
   "source": [
    "### Import"
   ]
  },
  {
   "cell_type": "code",
   "execution_count": 1,
   "metadata": {},
   "outputs": [],
   "source": [
    "import os\n",
    "from dotenv import load_dotenv\n",
    "from langchain_community.llms import Ollama\n",
    "from langchain_community.embeddings import OllamaEmbeddings\n",
    "from langchain_core.output_parsers import StrOutputParser\n",
    "from langchain.prompts import PromptTemplate\n",
    "from langchain_community.vectorstores import DocArrayInMemorySearch\n",
    "from operator import itemgetter\n",
    "from langchain.retrievers import ContextualCompressionRetriever\n",
    "from langchain.retrievers.document_compressors import LLMChainExtractor\n",
    "from langchain.schema import Document\n",
    "from langchain.text_splitter import RecursiveCharacterTextSplitter\n",
    "import fitz  # PyMuPDF library for PDF manipulation\n",
    "import re\n",
    "import unicodedata\n",
    "from langchain_community.document_loaders import (\n",
    "    PyPDFLoader,\n",
    "    Docx2txtLoader,\n",
    "    UnstructuredWordDocumentLoader,\n",
    "    UnstructuredExcelLoader,\n",
    "    UnstructuredPowerPointLoader,\n",
    "    UnstructuredImageLoader,\n",
    "    UnstructuredHTMLLoader,\n",
    ")"
   ]
  },
  {
   "cell_type": "markdown",
   "metadata": {},
   "source": [
    "### Setup environment"
   ]
  },
  {
   "cell_type": "code",
   "execution_count": 2,
   "metadata": {},
   "outputs": [],
   "source": [
    "load_dotenv()\n",
    "\n",
    "OPENAI_API_KEY = os.getenv(\"OPENAI_API_KEY\")\n",
    "MODEL = \"llama3\"\n",
    "\n",
    "model = Ollama(model=MODEL)\n",
    "embeddings = OllamaEmbeddings(model=MODEL)\n",
    "\n",
    "parser = StrOutputParser()\n",
    "chain = model | parser\n"
   ]
  },
  {
   "cell_type": "markdown",
   "metadata": {},
   "source": [
    "### Utility functions"
   ]
  },
  {
   "cell_type": "code",
   "execution_count": 3,
   "metadata": {},
   "outputs": [],
   "source": [
    "def normalize_text(text):\n",
    "    return unicodedata.normalize(\"NFKD\", text).encode(\"ASCII\", \"ignore\").decode(\"ASCII\")\n",
    "\n",
    "\n",
    "def load_documents(file_paths):\n",
    "    documents = []\n",
    "    for file_path in file_paths:\n",
    "        _, file_extension = os.path.splitext(file_path.lower())\n",
    "        if file_extension == \".pdf\":\n",
    "            loader = PyPDFLoader(file_path)\n",
    "        elif file_extension in [\".doc\", \".docx\", \".odt\"]:\n",
    "            loader = Docx2txtLoader(file_path)\n",
    "        elif file_extension in [\".rtf\", \".txt\"]:\n",
    "            loader = UnstructuredWordDocumentLoader(file_path)\n",
    "        elif file_extension in [\".xls\", \".xlsx\", \".ods\", \".csv\"]:\n",
    "            loader = UnstructuredExcelLoader(file_path)\n",
    "        elif file_extension in [\".ppt\", \".pptx\", \".odp\"]:\n",
    "            loader = UnstructuredPowerPointLoader(file_path)\n",
    "        elif file_extension in [\n",
    "            \".bmp\",\n",
    "            \".gif\",\n",
    "            \".jpg\",\n",
    "            \".jpeg\",\n",
    "            \".png\",\n",
    "            \".svg\",\n",
    "            \".tiff\",\n",
    "        ]:\n",
    "            loader = UnstructuredImageLoader(file_path)\n",
    "        elif file_extension == \".html\":\n",
    "            loader = UnstructuredHTMLLoader(file_path)\n",
    "        else:\n",
    "            print(f\"Unsupported file format: {file_extension}\")\n",
    "            continue\n",
    "\n",
    "        documents.extend(loader.load())\n",
    "\n",
    "    return documents\n",
    "\n",
    "\n",
    "def extract_highlighted_text(pdf_path, page_num, start_char, end_char):\n",
    "    doc = fitz.open(pdf_path)\n",
    "    page = doc[page_num]\n",
    "\n",
    "    # Get the rectangle coordinates for the text range\n",
    "    start_rect = page.get_text(\"words\")[start_char][:4]\n",
    "    end_rect = page.get_text(\"words\")[end_char - 1][:4]\n",
    "\n",
    "    # Create a rectangle that encompasses the text range\n",
    "    highlight_rect = fitz.Rect(start_rect[0], start_rect[1], end_rect[2], end_rect[3])\n",
    "\n",
    "    # Extract the text within the rectangle\n",
    "    highlighted_text = page.get_text(\"text\", clip=highlight_rect)\n",
    "\n",
    "    # Optionally, you can still add a highlight annotation if needed\n",
    "    # page.add_highlight_annot(highlight_rect)\n",
    "\n",
    "    doc.close()\n",
    "    return highlighted_text\n",
    "\n",
    "\n",
    "def create_citation(document, relevant_text):\n",
    "    return {\n",
    "        \"document_name\": document.metadata.get(\"source\", \"Unknown\"),\n",
    "        \"page_number\": document.metadata.get(\"page\", 0) + 1,\n",
    "        \"text\": relevant_text,\n",
    "        \"start_char\": document.page_content.index(relevant_text),\n",
    "        \"end_char\": document.page_content.index(relevant_text) + len(relevant_text),\n",
    "    }"
   ]
  },
  {
   "cell_type": "markdown",
   "metadata": {},
   "source": [
    "### Load and split documents"
   ]
  },
  {
   "cell_type": "code",
   "execution_count": 4,
   "metadata": {},
   "outputs": [],
   "source": [
    "file_paths = [\"dotnet.pdf\"]\n",
    "pages = load_documents(file_paths)\n",
    "\n",
    "text_splitter = RecursiveCharacterTextSplitter(\n",
    "    chunk_size=250,\n",
    "    chunk_overlap=20,\n",
    "    length_function=len,\n",
    ")"
   ]
  },
  {
   "cell_type": "markdown",
   "metadata": {},
   "source": [
    "### Setup prompt and retriever"
   ]
  },
  {
   "cell_type": "code",
   "execution_count": 7,
   "metadata": {},
   "outputs": [],
   "source": [
    "template = \"\"\"\n",
    "Answer the question based on the context below and the conversation history. If you can't answer the question, reply \"I don't know\".\n",
    "When using information from the context, sources with the format [Citation X] must be included where X is the number of citation of each answer. \n",
    "If answer come from the same source, reuse the same citation number.  \n",
    "\n",
    "Context: {context}\n",
    "\n",
    "\n",
    "\n",
    "Question: {question}\n",
    "\n",
    "Answer:\n",
    "\"\"\"\n",
    "\n",
    "prompt = PromptTemplate.from_template(template)\n",
    "# splits = text_splitter.split_documents(pages)\n",
    "vectorstore = DocArrayInMemorySearch.from_documents(pages, embedding=embeddings)\n",
    "base_retriever = vectorstore.as_retriever(search_type=\"mmr\", search_kwargs={\"k\": 5})\n",
    "\n",
    "# compressor = LLMChainExtractor.from_llm(model)\n",
    "# retriever = ContextualCompressionRetriever(\n",
    "#     base_compressor=compressor,\n",
    "#     base_retriever=base_retriever,\n",
    "# )\n",
    "retriever = vectorstore.as_retriever(search_type=\"mmr\", search_kwargs={\"k\": 5})\n",
    "chain = prompt | model | parser\n",
    "\n",
    "chain.input_schema.schema()\n",
    "chain = (\n",
    "    {\n",
    "        \"context\": itemgetter(\"question\") | retriever,\n",
    "        \"question\": itemgetter(\"question\"),\n",
    "    }\n",
    "    | prompt\n",
    "    | model\n",
    "    | parser\n",
    ")"
   ]
  },
  {
   "cell_type": "markdown",
   "metadata": {},
   "source": [
    "### Conversation Memory"
   ]
  },
  {
   "cell_type": "code",
   "execution_count": 6,
   "metadata": {},
   "outputs": [],
   "source": [
    "class ConversationMemory:\n",
    "  def __init__(self, max_history: int = 5):\n",
    "    self.history: List[Dict[str, str]] = []\n",
    "    self.max_history = max_history\n",
    "\n",
    "  def add_interaction(self, question: str, answer: str):\n",
    "    self.history.append({\"question\": question, \"answer\": answer})\n",
    "    if len(self.history) > self.max_history:\n",
    "      self.history.pop(0)\n",
    "\n",
    "  def get_formatted_history(self) -> str:\n",
    "    return \"\\n\".join(\n",
    "      [\n",
    "        f\"Human: {interaction['question']}\\nAI: {interaction['answer']}\"\n",
    "        for interaction in self.history\n",
    "      ]\n",
    "    )"
   ]
  },
  {
   "cell_type": "markdown",
   "metadata": {},
   "source": [
    "### Generate Response with Citations"
   ]
  },
  {
   "cell_type": "code",
   "execution_count": 8,
   "metadata": {},
   "outputs": [],
   "source": [
    "def generate_response_with_citations(question):\n",
    "  # Retrieve relevant documents\n",
    "  retrieved_docs = retriever.invoke(question)\n",
    "  # Create context string with citations\n",
    "  context = \"\"\n",
    "  citations = []\n",
    "  for i, doc in enumerate(retrieved_docs):\n",
    "    relevant_text = doc.page_content\n",
    "    citation = create_citation(doc, relevant_text)\n",
    "    citations.append(citation)\n",
    "    context += f\"[Citation {i + 1}] {relevant_text}\\n\\n\"\n",
    "\n",
    "  # Generate answer\n",
    "  response = chain.invoke({\"context\": context, \"question\": question})\n",
    "\n",
    "  # Extract citations used in the response\n",
    "  used_citations = []\n",
    "  for match in re.finditer(r\"\\[Citation (\\d+)\\]\", response):\n",
    "    citation_num = int(match.group(1))\n",
    "    if 1 <= citation_num <= len(citations):\n",
    "      used_citations.append(citations[citation_num - 1])\n",
    "\n",
    "  return response, used_citations"
   ]
  },
  {
   "cell_type": "code",
   "execution_count": 9,
   "metadata": {},
   "outputs": [],
   "source": [
    "def format_response_with_citations(response, citations):\n",
    "  formatted_response = f\"{response}\\n\\nCitations:\\n\"\n",
    "  if not citations:\n",
    "    formatted_response += \"No citations available.\\n\"\n",
    "  for i, citation in enumerate(citations):\n",
    "    try:\n",
    "      formatted_response += (\n",
    "        f\"{i+1}. Document: {citation['document_name']}, Page: {citation['page_number']}\\n\"\n",
    "      )\n",
    "      formatted_response += f\"   Text: {citation['text'][:100]}...\\n\\n\"\n",
    "    except Exception as e:\n",
    "      formatted_response += f\"{i+1}. Error formatting citation: {str(e)}\\n\\n\"\n",
    "  return formatted_response"
   ]
  },
  {
   "cell_type": "markdown",
   "metadata": {},
   "source": [
    "### Example Usage"
   ]
  },
  {
   "cell_type": "code",
   "execution_count": 10,
   "metadata": {},
   "outputs": [
    {
     "name": "stdout",
     "output_type": "stream",
     "text": [
      "Question: What is the purpose of .NET?\n",
      "According to the context, [Citation 1], \"With .NET, you can use multiple languages, editors, and libraries to build applications for web, mobile, desktop, games, and IoT.\" This suggests that the main purpose of .NET is to provide a platform for building various types of applications using different programming languages, tools, and libraries.\n",
      "\n",
      "Citations:\n",
      "1. Document: dotnet.pdf, Page: 7\n",
      "   Text: 11/28/23, 9:58 AM .NET behind the scene. What is it .NET, How it works, and Why… | by Ofir Elarat | ...\n",
      "\n",
      "\n",
      "\n",
      "Question: What is the environment of .NET?\n",
      "The environment of .NET is part of the Windows operating system and gets updated on a regular basis [Citation 1].\n",
      "\n",
      "Citations:\n",
      "1. Document: dotnet.pdf, Page: 2\n",
      "   Text: 11/28/23, 9:58 AM .NET behind the scene. What is it .NET, How it works, and Why… | by Ofir Elarat | ...\n",
      "\n",
      "\n",
      "\n",
      "Question: How does .NET handle errors?\n",
      "According to the context, thanks to the Just-In-Time (JIT) compiler, the .NET platform can support easy error handling in your application code. When an error occurs, instead of terminating the process, the CLR throws an error event [Citation 6].\n",
      "\n",
      "Citations:\n",
      "No citations available.\n",
      "\n",
      "\n",
      "Question: Do you have information about DLL?\n",
      "According to the context, I found some information about DLL:\n",
      "\n",
      "\"A DLL (Dynamic Link Library) is not runnable because every .NET executable file must have an entry point to start from, the main function. DLL doesn't contain this function and therefore not runnable.\" [Citation 1]\n",
      "\n",
      "Additionally, it's mentioned that \"DLL contains the CIL assembly (the CIL code) and CIL metadata.\"\n",
      "\n",
      "Citations:\n",
      "1. Document: dotnet.pdf, Page: 7\n",
      "   Text: 11/28/23, 9:58 AM .NET behind the scene. What is it .NET, How it works, and Why… | by Ofir Elarat | ...\n",
      "\n",
      "\n",
      "\n"
     ]
    }
   ],
   "source": [
    "# Example usage\n",
    "questions = [\n",
    "  \"What is the purpose of .NET?\",\n",
    "  \"What is the environment of .NET?\",\n",
    "  \"How does .NET handle errors?\",\n",
    "  \"Do you have information about DLL?\",\n",
    "]\n",
    "\n",
    "for question in questions:\n",
    "  print(f\"Question: {question}\")\n",
    "  response, citations = generate_response_with_citations(question)\n",
    "  formatted_response = format_response_with_citations(response, citations)\n",
    "  print(formatted_response)\n",
    "\n",
    "  print()"
   ]
  }
 ],
 "metadata": {
  "kernelspec": {
   "display_name": ".venv",
   "language": "python",
   "name": "python3"
  },
  "language_info": {
   "codemirror_mode": {
    "name": "ipython",
    "version": 3
   },
   "file_extension": ".py",
   "mimetype": "text/x-python",
   "name": "python",
   "nbconvert_exporter": "python",
   "pygments_lexer": "ipython3",
   "version": "3.12.4"
  }
 },
 "nbformat": 4,
 "nbformat_minor": 2
}
