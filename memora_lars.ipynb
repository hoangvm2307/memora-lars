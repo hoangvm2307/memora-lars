{
 "cells": [
  {
   "cell_type": "markdown",
   "metadata": {},
   "source": [
    "### Import\n"
   ]
  },
  {
   "cell_type": "code",
   "execution_count": 1,
   "metadata": {},
   "outputs": [],
   "source": [
    "import os\n",
    "from dotenv import load_dotenv\n",
    "from langchain_community.llms import Ollama\n",
    "from langchain_community.embeddings import OllamaEmbeddings\n",
    "from langchain_core.output_parsers import StrOutputParser\n",
    "from langchain.prompts import PromptTemplate\n",
    "from langchain_community.vectorstores import DocArrayInMemorySearch\n",
    "from operator import itemgetter\n",
    "from langchain.retrievers import ContextualCompressionRetriever\n",
    "from langchain.retrievers.document_compressors import LLMChainExtractor\n",
    "from langchain.schema import Document\n",
    "from langchain.text_splitter import RecursiveCharacterTextSplitter\n",
    "import fitz  # PyMuPDF library for PDF manipulation\n",
    "import re\n",
    "import unicodedata\n",
    "from langchain_community.document_loaders import (\n",
    "    PyPDFLoader,\n",
    "    Docx2txtLoader,\n",
    "    UnstructuredWordDocumentLoader,\n",
    "    UnstructuredExcelLoader,\n",
    "    UnstructuredPowerPointLoader,\n",
    "    UnstructuredImageLoader,\n",
    "    UnstructuredHTMLLoader,\n",
    ")\n",
    "from typing import List, Dict"
   ]
  },
  {
   "cell_type": "markdown",
   "metadata": {},
   "source": [
    "### Setup environment\n"
   ]
  },
  {
   "cell_type": "code",
   "execution_count": 2,
   "metadata": {},
   "outputs": [],
   "source": [
    "load_dotenv()\n",
    "\n",
    "OPENAI_API_KEY = os.getenv(\"OPENAI_API_KEY\")\n",
    "MODEL = \"llama3\"\n",
    "\n",
    "model = Ollama(model=MODEL)\n",
    "embeddings = OllamaEmbeddings(model=MODEL)\n",
    "\n",
    "parser = StrOutputParser()\n",
    "chain = model | parser\n"
   ]
  },
  {
   "cell_type": "markdown",
   "metadata": {},
   "source": [
    "### Utility functions\n"
   ]
  },
  {
   "cell_type": "code",
   "execution_count": 3,
   "metadata": {},
   "outputs": [],
   "source": [
    "def normalize_text(text):\n",
    "    return unicodedata.normalize(\"NFKD\", text).encode(\"ASCII\", \"ignore\").decode(\"ASCII\")\n",
    "\n",
    "\n",
    "def load_documents(file_paths):\n",
    "    documents = []\n",
    "    for file_path in file_paths:\n",
    "        _, file_extension = os.path.splitext(file_path.lower())\n",
    "        if file_extension == \".pdf\":\n",
    "            loader = PyPDFLoader(file_path)\n",
    "        elif file_extension in [\".doc\", \".docx\", \".odt\"]:\n",
    "            loader = Docx2txtLoader(file_path)\n",
    "        elif file_extension in [\".rtf\", \".txt\"]:\n",
    "            loader = UnstructuredWordDocumentLoader(file_path)\n",
    "        elif file_extension in [\".xls\", \".xlsx\", \".ods\", \".csv\"]:\n",
    "            loader = UnstructuredExcelLoader(file_path)\n",
    "        elif file_extension in [\".ppt\", \".pptx\", \".odp\"]:\n",
    "            loader = UnstructuredPowerPointLoader(file_path)\n",
    "        elif file_extension in [\n",
    "            \".bmp\",\n",
    "            \".gif\",\n",
    "            \".jpg\",\n",
    "            \".jpeg\",\n",
    "            \".png\",\n",
    "            \".svg\",\n",
    "            \".tiff\",\n",
    "        ]:\n",
    "            loader = UnstructuredImageLoader(file_path)\n",
    "        elif file_extension == \".html\":\n",
    "            loader = UnstructuredHTMLLoader(file_path)\n",
    "        else:\n",
    "            print(f\"Unsupported file format: {file_extension}\")\n",
    "            continue\n",
    "\n",
    "        documents.extend(loader.load())\n",
    "\n",
    "    return documents\n",
    "\n",
    "\n",
    "def extract_highlighted_text(pdf_path, page_num, start_char, end_char):\n",
    "    doc = fitz.open(pdf_path)\n",
    "    page = doc[page_num]\n",
    "\n",
    "    # Get the rectangle coordinates for the text range\n",
    "    start_rect = page.get_text(\"words\")[start_char][:4]\n",
    "    end_rect = page.get_text(\"words\")[end_char - 1][:4]\n",
    "\n",
    "    # Create a rectangle that encompasses the text range\n",
    "    highlight_rect = fitz.Rect(start_rect[0], start_rect[1], end_rect[2], end_rect[3])\n",
    "\n",
    "    # Extract the text within the rectangle\n",
    "    highlighted_text = page.get_text(\"text\", clip=highlight_rect)\n",
    "\n",
    "    # Optionally, you can still add a highlight annotation if needed\n",
    "    # page.add_highlight_annot(highlight_rect)\n",
    "\n",
    "    doc.close()\n",
    "    return highlighted_text\n",
    "\n",
    "\n",
    "def create_citation(document, relevant_text):\n",
    "    return {\n",
    "        \"document_name\": document.metadata.get(\"source\", \"Unknown\"),\n",
    "        \"page_number\": document.metadata.get(\"page\", 0) + 1,\n",
    "        \"text\": relevant_text,\n",
    "        \"start_char\": document.page_content.index(relevant_text),\n",
    "        \"end_char\": document.page_content.index(relevant_text) + len(relevant_text),\n",
    "    }"
   ]
  },
  {
   "cell_type": "markdown",
   "metadata": {},
   "source": [
    "### Load and split documents\n"
   ]
  },
  {
   "cell_type": "code",
   "execution_count": 4,
   "metadata": {},
   "outputs": [],
   "source": [
    "file_paths = [\"dotnet.pdf\"]\n",
    "pages = load_documents(file_paths)\n",
    "\n",
    "text_splitter = RecursiveCharacterTextSplitter(\n",
    "    chunk_size=250,\n",
    "    chunk_overlap=20,\n",
    "    length_function=len,\n",
    ")"
   ]
  },
  {
   "cell_type": "markdown",
   "metadata": {},
   "source": [
    "### Setup prompt and retriever\n"
   ]
  },
  {
   "cell_type": "code",
   "execution_count": 5,
   "metadata": {},
   "outputs": [
    {
     "name": "stderr",
     "output_type": "stream",
     "text": [
      "c:\\Users\\hoangvmdeptrai\\AppData\\Local\\Programs\\Python\\Python312\\Lib\\site-packages\\pydantic\\_migration.py:283: UserWarning: `pydantic.error_wrappers:ValidationError` has been moved to `pydantic:ValidationError`.\n",
      "  warnings.warn(f'`{import_path}` has been moved to `{new_location}`.')\n"
     ]
    }
   ],
   "source": [
    "template = \"\"\"\n",
    "Answer the question based on the context below and the conversation history. If you can't answer the question, reply \"I don't know\".\n",
    "When using information from the context, sources with the format [Citation X] must be included where X is the number of citation of each answer. \n",
    "If answer come from the same source, reuse the same citation number.  \n",
    "\n",
    "Context: {context}\n",
    "\n",
    "Conversation History:\n",
    "{history}\n",
    "\n",
    "Question: {question}\n",
    "\n",
    "Answer:\n",
    "\"\"\"\n",
    "\n",
    "prompt = PromptTemplate.from_template(template)\n",
    "# splits = text_splitter.split_documents(pages)\n",
    "vectorstore = DocArrayInMemorySearch.from_documents(pages, embedding=embeddings)\n",
    "base_retriever = vectorstore.as_retriever(search_type=\"mmr\", search_kwargs={\"k\": 5})\n",
    "\n",
    "# compressor = LLMChainExtractor.from_llm(model)\n",
    "# retriever = ContextualCompressionRetriever(\n",
    "#     base_compressor=compressor,\n",
    "#     base_retriever=base_retriever,\n",
    "# )\n",
    "retriever = vectorstore.as_retriever(search_type=\"mmr\", search_kwargs={\"k\": 5})\n",
    "chain = prompt | model | parser\n",
    "\n",
    "chain.input_schema.schema()\n",
    "chain = (\n",
    "    {\n",
    "        \"context\": itemgetter(\"question\") | retriever,\n",
    "        \"question\": itemgetter(\"question\"),\n",
    "        \"history\": itemgetter(\"history\"),\n",
    "    }\n",
    "    | prompt\n",
    "    | model\n",
    "    | parser\n",
    ")"
   ]
  },
  {
   "cell_type": "markdown",
   "metadata": {},
   "source": [
    "### Conversation Memory\n"
   ]
  },
  {
   "cell_type": "code",
   "execution_count": 6,
   "metadata": {},
   "outputs": [],
   "source": [
    "class ConversationMemory:\n",
    "  def __init__(self, max_history: int = 5):\n",
    "    self.history: List[Dict[str, str]] = []\n",
    "    self.max_history = max_history\n",
    "\n",
    "  def add_interaction(self, question: str, answer: str):\n",
    "    self.history.append({\"question\": question, \"answer\": answer})\n",
    "    if len(self.history) > self.max_history:\n",
    "      self.history.pop(0)\n",
    "\n",
    "  def get_formatted_history(self) -> str:\n",
    "    return \"\\n\".join(\n",
    "      [\n",
    "        f\"Human: {interaction['question']}\\nAI: {interaction['answer']}\"\n",
    "        for interaction in self.history\n",
    "      ]\n",
    "    )"
   ]
  },
  {
   "cell_type": "markdown",
   "metadata": {},
   "source": [
    "### Generate Response with Citations\n"
   ]
  },
  {
   "cell_type": "code",
   "execution_count": 7,
   "metadata": {},
   "outputs": [],
   "source": [
    "def generate_response_with_citations(question: str, conversation_memory: ConversationMemory):\n",
    "    retrieved_docs = retriever.invoke(question)\n",
    "    context = \"\"\n",
    "    citations = []\n",
    "    for i, doc in enumerate(retrieved_docs):\n",
    "        relevant_text = doc.page_content\n",
    "        citation = create_citation(doc, relevant_text)\n",
    "        citations.append(citation)\n",
    "        context += f\"[Citation {i + 1}] {relevant_text}\\n\\n\"\n",
    "\n",
    "    history = conversation_memory.get_formatted_history()\n",
    "    response = chain.invoke({\"context\": context, \"question\": question, \"history\": history})\n",
    "\n",
    "    used_citations = []\n",
    "    for match in re.finditer(r\"\\[Citation (\\d+)\\]\", response):\n",
    "        citation_num = int(match.group(1))\n",
    "        if 1 <= citation_num <= len(citations):\n",
    "            used_citations.append(citations[citation_num - 1])\n",
    "\n",
    "    conversation_memory.add_interaction(question, response)\n",
    "    return response, used_citations"
   ]
  },
  {
   "cell_type": "code",
   "execution_count": 8,
   "metadata": {},
   "outputs": [],
   "source": [
    "def format_response_with_citations(response, citations):\n",
    "    formatted_response = f\"{response}\\n\\nCitations:\\n\"\n",
    "    if not citations:\n",
    "        formatted_response += \"No citations available.\\n\"\n",
    "    for i, citation in enumerate(citations):\n",
    "        try:\n",
    "            formatted_response += f\"{i+1}. Document: {citation['document_name']}, Page: {citation['page_number']}\\n\"\n",
    "            formatted_response += f\"   Text: {citation['text'][:100]}...\\n\\n\"\n",
    "        except Exception as e:\n",
    "            formatted_response += f\"{i+1}. Error formatting citation: {str(e)}\\n\\n\"\n",
    "    return formatted_response"
   ]
  },
  {
   "cell_type": "markdown",
   "metadata": {},
   "source": [
    "### Example Usage\n"
   ]
  },
  {
   "cell_type": "code",
   "execution_count": 9,
   "metadata": {},
   "outputs": [
    {
     "name": "stdout",
     "output_type": "stream",
     "text": [
      "Question: What is the purpose of .NET?\n",
      "With reference to the context [Citation 1], .NET is a framework developed by Microsoft as a response to the Java platform, with the goal of allowing developers to use multiple languages, editors, and libraries to build applications for various platforms. It includes programming languages (C#, F#, VB), common libraries (.NET standard), compiler for each programming language (that compile to CIL), CIL (Common Infrastructure Language), and CLR (Common Language Runtime).\n",
      "\n",
      "Answer: To allow developers to use multiple languages, editors, and libraries to build applications for various platforms.\n",
      "\n",
      "[Citation 1]: https://medium.com/c-sharp-progarmming/net-behind-the-scene-a229f83083d0\n",
      "\n",
      "Citations:\n",
      "1. Document: dotnet.pdf, Page: 7\n",
      "   Text: 11/28/23, 9:58 AM .NET behind the scene. What is it .NET, How it works, and Why… | by Ofir Elarat | ...\n",
      "\n",
      "2. Document: dotnet.pdf, Page: 7\n",
      "   Text: 11/28/23, 9:58 AM .NET behind the scene. What is it .NET, How it works, and Why… | by Ofir Elarat | ...\n",
      "\n",
      "\n",
      "\n",
      "Question: What is the environment of .NET?\n",
      "According to the context [Citation 2], the .NET platform includes many different parts and a combination of them lets you develop and run applications. The main different parts include:\n",
      "\n",
      "* Programming languages (C#, F#, VB)\n",
      "* Common libraries (.NET standard)\n",
      "* Compiler for each programming language (that compile to CIL)\n",
      "* CIL (Common Infrastructure Language)\n",
      "* CLR (Common Language Runtime)\n",
      "\n",
      "The .NET platform is part of the Windows operating system and gets updated on a regular basis.\n",
      "\n",
      "[Citation 2]: https://medium.com/c-sharp-progarmming/net-behind-the-scene-a229f83083d0\n",
      "\n",
      "Answer: The environment of .NET includes programming languages, common libraries, compilers for each language that compile to CIL, CIL (Common Infrastructure Language), and CLR (Common Language Runtime).\n",
      "\n",
      "Citations:\n",
      "1. Document: dotnet.pdf, Page: 1\n",
      "   Text: 11/28/23, 9:58 AM .NET behind the scene. What is it .NET, How it works, and Why… | by Ofir Elarat | ...\n",
      "\n",
      "2. Document: dotnet.pdf, Page: 1\n",
      "   Text: 11/28/23, 9:58 AM .NET behind the scene. What is it .NET, How it works, and Why… | by Ofir Elarat | ...\n",
      "\n",
      "\n",
      "\n",
      "Question: How does .NET handle errors?\n",
      "According to the context [Citation 6], thanks to the JIT compiler, the .NET platform can support easy error handling in your application code. When an error occurs, instead of terminating the process, the CLR throws an error event.\n",
      "\n",
      "[Citation 6]: https://medium.com/c-sharp-progarmming/net-behind-the-scene-a229f83083d0 (page 7/12)\n",
      "\n",
      "Citations:\n",
      "No citations available.\n",
      "\n",
      "\n",
      "Question: Do you have information about DLL?\n",
      "According to the context [Citation 5], DLL and exe files are the output artifacts of the common language compilers. They contain the CIL assembly (the CIL code) and CIL metadata. Unlike exe, DLL is not runnable because it doesn't contain an entry point to start from.\n",
      "\n",
      "[Citation 5]: https://medium.com/c-sharp-progarmming/net-behind-the-scene-a229f83083d0 (page 5/12)\n",
      "\n",
      "Answer: Yes, I have information about DLL.\n",
      "\n",
      "Citations:\n",
      "1. Document: dotnet.pdf, Page: 6\n",
      "   Text: 11/28/23, 9:58 AM .NET behind the scene. What is it .NET, How it works, and Why… | by Ofir Elarat | ...\n",
      "\n",
      "2. Document: dotnet.pdf, Page: 6\n",
      "   Text: 11/28/23, 9:58 AM .NET behind the scene. What is it .NET, How it works, and Why… | by Ofir Elarat | ...\n",
      "\n",
      "\n",
      "\n",
      "Question: What is the purpose of .NET?\n",
      "To allow developers to use multiple languages, editors, and libraries to build applications for various platforms.\n",
      "\n",
      "[Citation 1]: https://medium.com/c-sharp-progarmming/net-behind-the-scene-a229f83083d0\n",
      "\n",
      "Citations:\n",
      "1. Document: dotnet.pdf, Page: 7\n",
      "   Text: 11/28/23, 9:58 AM .NET behind the scene. What is it .NET, How it works, and Why… | by Ofir Elarat | ...\n",
      "\n",
      "\n",
      "\n"
     ]
    },
    {
     "ename": "",
     "evalue": "",
     "output_type": "error",
     "traceback": [
      "\u001b[1;31mThe Kernel crashed while executing code in the current cell or a previous cell. \n",
      "\u001b[1;31mPlease review the code in the cell(s) to identify a possible cause of the failure. \n",
      "\u001b[1;31mClick <a href='https://aka.ms/vscodeJupyterKernelCrash'>here</a> for more info. \n",
      "\u001b[1;31mView Jupyter <a href='command:jupyter.viewOutput'>log</a> for further details."
     ]
    }
   ],
   "source": [
    "# Example usage\n",
    "questions = [\n",
    "    \"What is the purpose of .NET?\",\n",
    "    \"What is the environment of .NET?\",\n",
    "    \"How does .NET handle errors?\",\n",
    "    \"Do you have information about DLL?\",\n",
    "    \"What is the purpose of .NET?\",\n",
    "]\n",
    "conversation_memory = ConversationMemory()\n",
    "for question in questions:\n",
    "    print(f\"Question: {question}\")\n",
    "    response, citations = generate_response_with_citations(\n",
    "        question, conversation_memory\n",
    "    )\n",
    "    formatted_response = format_response_with_citations(response, citations)\n",
    "    print(formatted_response)\n",
    "    print()"
   ]
  }
 ],
 "metadata": {
  "kernelspec": {
   "display_name": ".venv",
   "language": "python",
   "name": "python3"
  },
  "language_info": {
   "codemirror_mode": {
    "name": "ipython",
    "version": 3
   },
   "file_extension": ".py",
   "mimetype": "text/x-python",
   "name": "python",
   "nbconvert_exporter": "python",
   "pygments_lexer": "ipython3",
   "version": "3.12.4"
  }
 },
 "nbformat": 4,
 "nbformat_minor": 2
}
